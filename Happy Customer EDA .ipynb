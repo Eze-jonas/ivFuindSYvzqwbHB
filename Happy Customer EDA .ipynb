{
 "cells": [
  {
   "cell_type": "code",
   "execution_count": null,
   "id": "e9379547-cb1b-43ea-bb64-2fbc5b75ece3",
   "metadata": {},
   "outputs": [],
   "source": []
  },
  {
   "cell_type": "markdown",
   "id": "b031acb5-4d42-40d4-a68f-9acd5102f318",
   "metadata": {},
   "source": [
    "### Project Description:\n",
    "### Project Tiltle: Smarter Customer Surveys: Using Machine Learning to Improve Service Quality\n",
    "##### This project aims to develop a machine learning model to predict whether a customer is happy or not, using a customer happiness survey dataset from a logistics and delivery company.\n",
    "##### Identify the features that most strongly influence customer happiness after receiving services, helping the company understand which aspects of their service to prioritize.\n",
    "##### Apply feature selection techniques to extract a minimal set of features that maintain accuracy and improve predictability, which can guide the company in refining their survey questions for future assessments."
   ]
  },
  {
   "cell_type": "markdown",
   "id": "8a17399d-8dca-4c73-87f0-b7060695e6a3",
   "metadata": {},
   "source": [
    "### Data Preprocessing.\n",
    "##### The dataset may be messy and can not be used to develop a machine learning model. \n",
    "##### To find out whether it is messy or not, exploratory data anayliss(EDA) is carried out.\n",
    "##### Then to make it fit for model development, it is preprocessed(transformed) based on the findings from the EDA. "
   ]
  },
  {
   "cell_type": "code",
   "execution_count": null,
   "id": "5bd89f0c-865a-49c1-bf1e-e7c40201c846",
   "metadata": {},
   "outputs": [],
   "source": []
  },
  {
   "cell_type": "markdown",
   "id": "6a228414-bcc0-41f1-8b17-bffc65f3f849",
   "metadata": {},
   "source": [
    "#### Import libraries"
   ]
  },
  {
   "cell_type": "code",
   "execution_count": 2,
   "id": "fb661985-c538-44a8-b4be-39f879a4d9c6",
   "metadata": {},
   "outputs": [],
   "source": [
    "import pandas as pd\n",
    "import numpy as np\n",
    "import matplotlib.pyplot as plt\n",
    "import seaborn as sns\n",
    "from sklearn.preprocessing import StandardScaler\n",
    "from scipy.stats.mstats import winsorize\n",
    "from sklearn.preprocessing import PowerTransformer\n"
   ]
  },
  {
   "cell_type": "markdown",
   "id": "b082bb07-a77c-4694-b292-1eaa78ad6cf9",
   "metadata": {},
   "source": [
    "#### Codes below load the dataset and display its first 5 rows."
   ]
  },
  {
   "cell_type": "code",
   "execution_count": 8,
   "id": "e23bd35f-e425-42ef-ae47-98488bdae749",
   "metadata": {},
   "outputs": [
    {
     "data": {
      "text/html": [
       "<div>\n",
       "<style scoped>\n",
       "    .dataframe tbody tr th:only-of-type {\n",
       "        vertical-align: middle;\n",
       "    }\n",
       "\n",
       "    .dataframe tbody tr th {\n",
       "        vertical-align: top;\n",
       "    }\n",
       "\n",
       "    .dataframe thead th {\n",
       "        text-align: right;\n",
       "    }\n",
       "</style>\n",
       "<table border=\"1\" class=\"dataframe\">\n",
       "  <thead>\n",
       "    <tr style=\"text-align: right;\">\n",
       "      <th></th>\n",
       "      <th>Y</th>\n",
       "      <th>X1</th>\n",
       "      <th>X2</th>\n",
       "      <th>X3</th>\n",
       "      <th>X4</th>\n",
       "      <th>X5</th>\n",
       "      <th>X6</th>\n",
       "    </tr>\n",
       "  </thead>\n",
       "  <tbody>\n",
       "    <tr>\n",
       "      <th>0</th>\n",
       "      <td>0</td>\n",
       "      <td>3</td>\n",
       "      <td>3</td>\n",
       "      <td>3</td>\n",
       "      <td>4</td>\n",
       "      <td>2</td>\n",
       "      <td>4</td>\n",
       "    </tr>\n",
       "    <tr>\n",
       "      <th>1</th>\n",
       "      <td>0</td>\n",
       "      <td>3</td>\n",
       "      <td>2</td>\n",
       "      <td>3</td>\n",
       "      <td>5</td>\n",
       "      <td>4</td>\n",
       "      <td>3</td>\n",
       "    </tr>\n",
       "    <tr>\n",
       "      <th>2</th>\n",
       "      <td>1</td>\n",
       "      <td>5</td>\n",
       "      <td>3</td>\n",
       "      <td>3</td>\n",
       "      <td>3</td>\n",
       "      <td>3</td>\n",
       "      <td>5</td>\n",
       "    </tr>\n",
       "    <tr>\n",
       "      <th>3</th>\n",
       "      <td>0</td>\n",
       "      <td>5</td>\n",
       "      <td>4</td>\n",
       "      <td>3</td>\n",
       "      <td>3</td>\n",
       "      <td>3</td>\n",
       "      <td>5</td>\n",
       "    </tr>\n",
       "    <tr>\n",
       "      <th>4</th>\n",
       "      <td>0</td>\n",
       "      <td>5</td>\n",
       "      <td>4</td>\n",
       "      <td>3</td>\n",
       "      <td>3</td>\n",
       "      <td>3</td>\n",
       "      <td>5</td>\n",
       "    </tr>\n",
       "  </tbody>\n",
       "</table>\n",
       "</div>"
      ],
      "text/plain": [
       "   Y  X1  X2  X3  X4  X5  X6\n",
       "0  0   3   3   3   4   2   4\n",
       "1  0   3   2   3   5   4   3\n",
       "2  1   5   3   3   3   3   5\n",
       "3  0   5   4   3   3   3   5\n",
       "4  0   5   4   3   3   3   5"
      ]
     },
     "execution_count": 8,
     "metadata": {},
     "output_type": "execute_result"
    }
   ],
   "source": [
    "file_path = r\"C:\\Users\\USER\\Documents\\Happy customers\\ACME-HappinessSurvey2020.csv\"\n",
    "df = pd.read_csv(file_path)\n",
    "df.head()"
   ]
  },
  {
   "cell_type": "markdown",
   "id": "0c9fdacf-31ea-4e3d-bd5b-683dcf515e88",
   "metadata": {},
   "source": [
    "#### From the result above, the dataset is a suppervised data and meant to predict a class. So, a classification model will be developed."
   ]
  },
  {
   "cell_type": "markdown",
   "id": "b2124f9d-af8c-4b05-a983-cba236cac39e",
   "metadata": {},
   "source": [
    "##### Codes below display the structure of the dataset."
   ]
  },
  {
   "cell_type": "code",
   "execution_count": 10,
   "id": "b6a6896d-f663-4b9a-a677-33a6b0188033",
   "metadata": {},
   "outputs": [
    {
     "name": "stdout",
     "output_type": "stream",
     "text": [
      "(126, 7)\n"
     ]
    }
   ],
   "source": [
    "print(df.shape)"
   ]
  },
  {
   "cell_type": "markdown",
   "id": "7eaaa595-0cc5-4ffb-9a28-7a71fc11f7a9",
   "metadata": {},
   "source": [
    "#### From the result above, the dataset has 126 rows and 7 columns."
   ]
  },
  {
   "cell_type": "markdown",
   "id": "582cec63-8687-4c72-b604-a9363947fc96",
   "metadata": {},
   "source": [
    "#### Exploratory Data Analysis(EDA)"
   ]
  },
  {
   "cell_type": "markdown",
   "id": "2548a54d-7970-4cb3-8831-c24548d1d139",
   "metadata": {},
   "source": [
    "##### Codes below examine and display the  data type of the variables."
   ]
  },
  {
   "cell_type": "code",
   "execution_count": 14,
   "id": "4761ecfb-abbd-4748-9fcb-98e5bbeaa3ab",
   "metadata": {},
   "outputs": [
    {
     "name": "stdout",
     "output_type": "stream",
     "text": [
      " These are the data types of the variables:\n"
     ]
    },
    {
     "data": {
      "text/plain": [
       "Y     int64\n",
       "X1    int64\n",
       "X2    int64\n",
       "X3    int64\n",
       "X4    int64\n",
       "X5    int64\n",
       "X6    int64\n",
       "dtype: object"
      ]
     },
     "execution_count": 14,
     "metadata": {},
     "output_type": "execute_result"
    }
   ],
   "source": [
    "print( \" These are the data types of the variables:\")\n",
    "df.dtypes"
   ]
  },
  {
   "cell_type": "markdown",
   "id": "7b83e041-f5e1-43cf-9c11-e6d4bacfb5f7",
   "metadata": {},
   "source": [
    "#### From the result above, the variables are integers(whole numbers). To prevent loss of imformation and data type mismatch during data transformatiom,convert the data type to float.\n",
    "\n",
    "##### Codes below convert the data type to float(decimal numbers)"
   ]
  },
  {
   "cell_type": "code",
   "execution_count": 50,
   "id": "9ea31fb2-f9a7-41bb-9bf3-b0729f0c8e5f",
   "metadata": {},
   "outputs": [
    {
     "name": "stdout",
     "output_type": "stream",
     "text": [
      "Y     float64\n",
      "X1    float64\n",
      "X2    float64\n",
      "X3    float64\n",
      "X4    float64\n",
      "X5    float64\n",
      "X6    float64\n",
      "dtype: object\n"
     ]
    }
   ],
   "source": [
    "# Get all integer columns\n",
    "int_cols = df.select_dtypes(include=[\"int\"]).columns\n",
    "\n",
    "# Convert them to float64\n",
    "df[int_cols] = df[int_cols].astype(\"float64\")\n",
    "\n",
    "# Verify changes\n",
    "print(df.dtypes)"
   ]
  },
  {
   "cell_type": "markdown",
   "id": "87d6d30f-7c81-42b8-a474-9f0f82285973",
   "metadata": {},
   "source": [
    "#### From the result above, the data type of the variables has been converted to float(decimal numbers)"
   ]
  },
  {
   "cell_type": "markdown",
   "id": "7979cf3e-0c59-4ef9-a4b9-a68fa997b1e9",
   "metadata": {},
   "source": [
    "##### Codes below examine the dataset for completely empty rows"
   ]
  },
  {
   "cell_type": "code",
   "execution_count": 20,
   "id": "e938aa09-9e5e-4966-af6d-5fdc14246e8c",
   "metadata": {},
   "outputs": [
    {
     "name": "stdout",
     "output_type": "stream",
     "text": [
      "No row is completely empty\n"
     ]
    }
   ],
   "source": [
    "# Check if there is a copletely empty rows in the dataset\n",
    "\n",
    "completely_empty_rows = df[df.isnull( ).all(axis = 1)]\n",
    "if not completely_empty_rows.empty:\n",
    "    print(\"Number of completely empty rows:{len(completely_empty_rows)}\")\n",
    "else:\n",
    "    print(\"No row is completely empty\")"
   ]
  },
  {
   "cell_type": "markdown",
   "id": "619bc8a6-0444-4964-8a8a-0e647f4f5af2",
   "metadata": {},
   "source": [
    "#### From the result above, the dataset has no completly empty row."
   ]
  },
  {
   "cell_type": "markdown",
   "id": "29e23dd3-693d-4140-bcc2-04c880818345",
   "metadata": {},
   "source": [
    "##### Codes below examine the dataset for duplicated rows"
   ]
  },
  {
   "cell_type": "code",
   "execution_count": 13,
   "id": "f5c44bee-34c8-4e75-b94b-9d684fcdc13c",
   "metadata": {},
   "outputs": [
    {
     "name": "stdout",
     "output_type": "stream",
     "text": [
      "Number of duplicated rows:16\n",
      "Duplicated rows are:\n",
      "       Y   X1   X2   X3   X4   X5   X6\n",
      "4    0.0  5.0  4.0  3.0  3.0  3.0  5.0\n",
      "22   0.0  4.0  3.0  5.0  5.0  5.0  4.0\n",
      "28   1.0  3.0  3.0  1.0  3.0  3.0  4.0\n",
      "33   1.0  3.0  2.0  4.0  4.0  4.0  5.0\n",
      "37   1.0  5.0  3.0  4.0  3.0  4.0  5.0\n",
      "50   1.0  5.0  1.0  3.0  3.0  4.0  4.0\n",
      "51   1.0  5.0  1.0  3.0  3.0  4.0  4.0\n",
      "53   1.0  5.0  2.0  4.0  3.0  4.0  5.0\n",
      "55   1.0  4.0  3.0  2.0  4.0  3.0  4.0\n",
      "62   1.0  5.0  2.0  4.0  4.0  5.0  5.0\n",
      "65   1.0  4.0  1.0  3.0  4.0  4.0  4.0\n",
      "93   1.0  5.0  4.0  4.0  4.0  4.0  5.0\n",
      "95   1.0  5.0  5.0  5.0  5.0  5.0  5.0\n",
      "107  0.0  4.0  2.0  4.0  4.0  4.0  4.0\n",
      "117  1.0  5.0  1.0  5.0  5.0  5.0  5.0\n",
      "123  1.0  5.0  3.0  3.0  4.0  4.0  5.0\n"
     ]
    }
   ],
   "source": [
    "duplicated_rows = df[df.duplicated( )]\n",
    "if not duplicated_rows.empty:\n",
    "    print(f\"Number of duplicated rows:{len(duplicated_rows)}\")\n",
    "    print(\"Duplicated rows are:\")\n",
    "    print(duplicated_rows)\n",
    "else:\n",
    "    print(\"There is no duplicate rows:\")"
   ]
  },
  {
   "cell_type": "markdown",
   "id": "ea30fd6a-40f6-4784-bc39-e3bbf38eb106",
   "metadata": {},
   "source": [
    "#### From the result above, the dataset has 16 duplictated rows."
   ]
  },
  {
   "cell_type": "markdown",
   "id": "d1ea5927-3450-4158-9783-857dc0eae118",
   "metadata": {},
   "source": [
    "##### Codes below  drop the duplicated rows."
   ]
  },
  {
   "cell_type": "code",
   "execution_count": 52,
   "id": "02c74e60-ecac-4cd2-90b8-a9c1e3a6b15f",
   "metadata": {},
   "outputs": [
    {
     "name": "stdout",
     "output_type": "stream",
     "text": [
      "Number of rows after dropping duplicates: 110\n"
     ]
    }
   ],
   "source": [
    "df = df.drop_duplicates()\n",
    "\n",
    "# Reset index \n",
    "df = df.reset_index(drop=True)\n",
    "\n",
    "# Check result\n",
    "print(f\"Number of rows after dropping duplicates: {len(df)}\")"
   ]
  },
  {
   "cell_type": "markdown",
   "id": "c7a09d68-9cfa-4b6a-97b0-cb6238f05f22",
   "metadata": {},
   "source": [
    "#### From the result above, the rows reduced from 126 to 110 after dropping the duplicated rows."
   ]
  },
  {
   "cell_type": "markdown",
   "id": "9d6d6fa6-f0fd-4078-a061-8e9665c7b7f8",
   "metadata": {},
   "source": [
    "### COLUMN BY COLUMN ANALYSIS"
   ]
  },
  {
   "cell_type": "markdown",
   "id": "b8da57dd-3228-411a-b44a-71a750e6bf0f",
   "metadata": {},
   "source": [
    "### X1 column analysis"
   ]
  },
  {
   "cell_type": "markdown",
   "id": "51024b0f-d071-4f1a-ba0c-457bd3b4d17c",
   "metadata": {},
   "source": [
    "##### Codes below examine X1 column for missing values."
   ]
  },
  {
   "cell_type": "code",
   "execution_count": 28,
   "id": "f8bfc814-5a5b-4ba6-8168-d9a0be30cddc",
   "metadata": {},
   "outputs": [
    {
     "data": {
      "text/plain": [
       "np.int64(0)"
      ]
     },
     "execution_count": 28,
     "metadata": {},
     "output_type": "execute_result"
    }
   ],
   "source": [
    "df[\"X1\"].isna().sum()"
   ]
  },
  {
   "cell_type": "markdown",
   "id": "56e9d32d-db38-4fd0-ac1c-b834a588d922",
   "metadata": {},
   "source": [
    "#### From the result above, X1 has no missing values."
   ]
  },
  {
   "cell_type": "code",
   "execution_count": null,
   "id": "61b7c20c-175b-4ef8-9550-eb86b02ce425",
   "metadata": {},
   "outputs": [],
   "source": []
  },
  {
   "cell_type": "markdown",
   "id": "c4e3c0d1-19d0-436e-9b3d-925f06a4714d",
   "metadata": {},
   "source": [
    "##### Codes below examine X1 column for the following:\n",
    "##### statastics.\n",
    "##### presence of outliers\n",
    "##### skewness and kurtosis\n",
    "##### its distribution using box plot and histogram."
   ]
  },
  {
   "cell_type": "code",
   "execution_count": 54,
   "id": "138f44ba-e166-4568-94fe-1b9435566101",
   "metadata": {},
   "outputs": [
    {
     "name": "stdout",
     "output_type": "stream",
     "text": [
      "Statistics for 'X1' column:\n",
      "count    110.0000\n",
      "mean       4.3091\n",
      "std        0.8099\n",
      "min        1.0000\n",
      "25%        4.0000\n",
      "50%        4.5000\n",
      "75%        5.0000\n",
      "max        5.0000\n",
      "Name: X1, dtype: float64\n",
      "\n",
      "Skewness of 'X1': -1.0474\n",
      "Kurtosis of 'X1': 1.0985\n",
      "\n",
      "Number of Outliers: 1\n",
      "Percentage of Outliers: 0.91%\n"
     ]
    },
    {
     "data": {
      "image/png": "[encoded data removed]",
      "text/plain": [
       "<Figure size 1000x400 with 2 Axes>"
      ]
     },
     "metadata": {},
     "output_type": "display_data"
    }
   ],
   "source": [
    "# Summary statistics for X1 (rounded to 4 decimal places)\n",
    "X1_stats = df['X1'].describe().round(4)\n",
    "skewness = round(df['X1'].skew(), 4)\n",
    "kurtosis = round(df['X1'].kurtosis(), 4)\n",
    "\n",
    "print(\"Statistics for 'X1' column:\")\n",
    "print(X1_stats)\n",
    "print(f\"\\nSkewness of 'X1': {skewness}\")\n",
    "print(f\"Kurtosis of 'X1': {kurtosis}\")\n",
    "\n",
    "# Calculate Q1 (25th percentile) and Q3 (75th percentile)\n",
    "Q1 = df['X1'].quantile(0.25)\n",
    "Q3 = df['X1'].quantile(0.75)\n",
    "IQR = Q3 - Q1\n",
    "\n",
    "# Determine outlier boundaries\n",
    "lower_bound = Q1 - 1.5 * IQR\n",
    "upper_bound = Q3 + 1.5 * IQR\n",
    "\n",
    "# Identify outliers in X1\n",
    "outliers = df[(df['X1'] < lower_bound) | (df['X1'] > upper_bound)]\n",
    "\n",
    "# Calculate the number and percentage of outliers\n",
    "number_outliers = len(outliers)\n",
    "percentage_outliers = (len(outliers) / len(df)) * 100\n",
    "\n",
    "# Print number and percentage of outliers\n",
    "print(f\"\\nNumber of Outliers: {number_outliers}\")\n",
    "print(f\"Percentage of Outliers: {percentage_outliers:.2f}%\")\n",
    "\n",
    "# Set up side-by-side plots\n",
    "fig, axes = plt.subplots(1, 2, figsize=(10, 4))\n",
    "\n",
    "# Boxplot for 'X1' column\n",
    "sns.boxplot(x=df['X1'], ax=axes[0])\n",
    "axes[0].set_title(\"Boxplot of X1\")\n",
    "\n",
    "# Histogram for 'X1' column\n",
    "sns.histplot(df['X1'], kde=True, ax=axes[1])\n",
    "axes[1].set_title(\"Distribution of X1\")\n",
    "\n",
    "plt.tight_layout()\n",
    "plt.show()"
   ]
  },
  {
   "cell_type": "markdown",
   "id": "ea3d4b4d-d11f-489c-a6fe-a65661373a89",
   "metadata": {},
   "source": [
    "#### From the results above, X1 has 110 data points which ranges from 1 to 5  where  25% is 4, 50% is 4.5 and 75% is 5. It is Negatively skewed, it has 1 outlier and has mean and standard deviation values of 4.3091 and 0.8099 respectively."
   ]
  },
  {
   "cell_type": "markdown",
   "id": "4893e1b9-ff7c-47e2-b9a4-fc214e52fc64",
   "metadata": {},
   "source": [
    "##### Codes below transform X1 (reduce its skewedness)  using Yeo-Johnson's transformation method."
   ]
  },
  {
   "cell_type": "code",
   "execution_count": 56,
   "id": "9025942a-e1f1-419c-8021-19bc69d245d8",
   "metadata": {},
   "outputs": [],
   "source": [
    "# Initialize Yeo-Johnson transformer\n",
    "pt = PowerTransformer(method='yeo-johnson', standardize=False)\n",
    "\n",
    "# Fit and transform only X1 column\n",
    "df['X1'] = pt.fit_transform(df[['X1']]) "
   ]
  },
  {
   "cell_type": "markdown",
   "id": "f6704d4b-a84b-43fa-8c41-ac9cce54fc06",
   "metadata": {},
   "source": [
    "##### Codes below examine the effect of Yeo-Johnson's transformation method on X1."
   ]
  },
  {
   "cell_type": "code",
   "execution_count": 58,
   "id": "9644a3d2-7fc2-4ab8-8c9d-3563bbd6bad0",
   "metadata": {},
   "outputs": [
    {
     "name": "stdout",
     "output_type": "stream",
     "text": [
      "Statistics for 'X1' column:\n",
      "count    110.0000\n",
      "mean     154.1120\n",
      "std       69.8000\n",
      "min        3.3180\n",
      "25%      110.8995\n",
      "50%      165.3990\n",
      "75%      219.8985\n",
      "max      219.8985\n",
      "Name: X1, dtype: float64\n",
      "\n",
      "Skewness of 'X1': -0.3364\n",
      "Kurtosis of 'X1': -1.4658\n",
      "\n",
      "Number of Outliers: 0\n",
      "Percentage of Outliers: 0.00%\n"
     ]
    },
    {
     "data": {
      "image/png": "[encoded data removed]",
      "text/plain": [
       "<Figure size 1000x400 with 2 Axes>"
      ]
     },
     "metadata": {},
     "output_type": "display_data"
    }
   ],
   "source": [
    "# Summary statistics for X1 (rounded to 4 decimal places)\n",
    "X1_stats = df['X1'].describe().round(4)\n",
    "skewness = round(df['X1'].skew(), 4)\n",
    "kurtosis = round(df['X1'].kurtosis(), 4)\n",
    "\n",
    "print(\"Statistics for 'X1' column:\")\n",
    "print(X1_stats)\n",
    "print(f\"\\nSkewness of 'X1': {skewness}\")\n",
    "print(f\"Kurtosis of 'X1': {kurtosis}\")\n",
    "\n",
    "# Calculate Q1 (25th percentile) and Q3 (75th percentile)\n",
    "Q1 = df['X1'].quantile(0.25)\n",
    "Q3 = df['X1'].quantile(0.75)\n",
    "IQR = Q3 - Q1\n",
    "\n",
    "# Determine outlier boundaries\n",
    "lower_bound = Q1 - 1.5 * IQR\n",
    "upper_bound = Q3 + 1.5 * IQR\n",
    "\n",
    "# Identify outliers in X1\n",
    "outliers = df[(df['X1'] < lower_bound) | (df['X1'] > upper_bound)]\n",
    "\n",
    "# Calculate the number and percentage of outliers\n",
    "number_outliers = len(outliers)\n",
    "percentage_outliers = (len(outliers) / len(df)) * 100\n",
    "\n",
    "# Print number and percentage of outliers\n",
    "print(f\"\\nNumber of Outliers: {number_outliers}\")\n",
    "print(f\"Percentage of Outliers: {percentage_outliers:.2f}%\")\n",
    "\n",
    "# Set up side-by-side plots\n",
    "fig, axes = plt.subplots(1, 2, figsize=(10, 4))\n",
    "\n",
    "# Boxplot for 'X1' column\n",
    "sns.boxplot(x=df['X1'], ax=axes[0])\n",
    "axes[0].set_title(\"Boxplot of X1\")\n",
    "\n",
    "# Histogram for 'X1' column\n",
    "sns.histplot(df['X1'], kde=True, ax=axes[1])\n",
    "axes[1].set_title(\"Distribution of X1\")\n",
    "\n",
    "plt.tight_layout()\n",
    "plt.show()"
   ]
  },
  {
   "cell_type": "markdown",
   "id": "c8961fe8-d71c-42d4-a9e3-0dbd3b8b7636",
   "metadata": {},
   "source": [
    "#### From the result above, X1 skeweness has reduced from -1.0474 to - 0.3364(normally distributed) and the outlier has been handled as well."
   ]
  },
  {
   "cell_type": "markdown",
   "id": "e355fd07-566d-4b65-accc-f5d7d085eaa7",
   "metadata": {},
   "source": [
    "##### Codes below Standardize X1 Column using z-score method."
   ]
  },
  {
   "cell_type": "code",
   "execution_count": 25,
   "id": "5d785157-460f-42d0-a641-ae1b72c79fbd",
   "metadata": {},
   "outputs": [],
   "source": [
    "scaler = StandardScaler()\n",
    "\n",
    "# Standardize X1 in place\n",
    "df['X1'] = scaler.fit_transform(df[['X1']])"
   ]
  },
  {
   "cell_type": "markdown",
   "id": "7a31c008-c6d0-45d5-b4cc-193029d77d8b",
   "metadata": {},
   "source": [
    "##### Codes below display X1 statistics again  after standardization."
   ]
  },
  {
   "cell_type": "code",
   "execution_count": 27,
   "id": "aa68402a-7708-4ec6-8b6a-377f20fcd3d2",
   "metadata": {},
   "outputs": [
    {
     "name": "stdout",
     "output_type": "stream",
     "text": [
      "Statistics for 'X1' column:\n",
      "count    110.0000\n",
      "mean      -0.0000\n",
      "std        1.0046\n",
      "min       -4.1047\n",
      "25%       -0.3834\n",
      "50%        0.2368\n",
      "75%        0.8570\n",
      "max        0.8570\n",
      "Name: X1, dtype: float64\n"
     ]
    }
   ],
   "source": [
    "X1_stats = df['X1'].describe().round(4)\n",
    "\n",
    "print(\"Statistics for 'X1' column:\")\n",
    "print(X1_stats)"
   ]
  },
  {
   "cell_type": "markdown",
   "id": "0cb0f9fd-1d5e-42de-9a0f-caea012e4e1b",
   "metadata": {},
   "source": [
    "#### From the result above, the mean value has been set to -0 and and standard deviation to 1 as expected."
   ]
  },
  {
   "cell_type": "markdown",
   "id": "b6820868-23c3-4b59-8841-0fd907062b4d",
   "metadata": {},
   "source": [
    "### X2 Column analysis"
   ]
  },
  {
   "cell_type": "markdown",
   "id": "08226d55-8a73-429a-a602-7744d6de7b38",
   "metadata": {},
   "source": [
    "##### Codes below examine X2 column for missing values."
   ]
  },
  {
   "cell_type": "code",
   "execution_count": 47,
   "id": "c7a11fd2-79db-454a-8c0f-e7319e27b8e4",
   "metadata": {},
   "outputs": [
    {
     "data": {
      "text/plain": [
       "np.int64(0)"
      ]
     },
     "execution_count": 47,
     "metadata": {},
     "output_type": "execute_result"
    }
   ],
   "source": [
    "\n",
    "df[\"X2\"].isna().sum()"
   ]
  },
  {
   "cell_type": "markdown",
   "id": "2729524e-82f4-4dbb-acf8-f569b0afedad",
   "metadata": {},
   "source": [
    "#### From the result above, X2 has no missing value."
   ]
  },
  {
   "cell_type": "code",
   "execution_count": null,
   "id": "5a31d5a2-890c-4671-b7b8-82c0dfd44cfd",
   "metadata": {},
   "outputs": [],
   "source": []
  },
  {
   "cell_type": "markdown",
   "id": "56283a46-4328-4088-b78f-7df11f283df5",
   "metadata": {},
   "source": [
    "##### Codes below Examine X2 for the following:\n",
    "##### statistics\n",
    "##### presence of outliers\n",
    "##### skewness and kurtosis.\n",
    "##### its distribution using box plot and histogram."
   ]
  },
  {
   "cell_type": "code",
   "execution_count": 49,
   "id": "56e36dcc-0823-411d-9d0f-44c181b39bef",
   "metadata": {},
   "outputs": [
    {
     "name": "stdout",
     "output_type": "stream",
     "text": [
      "Statistics for 'X2' column:\n",
      "count    110.0000\n",
      "mean       2.5364\n",
      "std        1.1061\n",
      "min        1.0000\n",
      "25%        2.0000\n",
      "50%        3.0000\n",
      "75%        3.0000\n",
      "max        5.0000\n",
      "Name: X2, dtype: float64\n",
      "\n",
      "Skewness of 'X2': 0.2586\n",
      "Kurtosis of 'X2': -0.5886\n",
      "\n",
      "Number of Outliers: 5\n",
      "Percentage of Outliers: 4.55%\n"
     ]
    },
    {
     "data": {
      "image/png": "[encoded data removed]",
      "text/plain": [
       "<Figure size 1000x400 with 2 Axes>"
      ]
     },
     "metadata": {},
     "output_type": "display_data"
    }
   ],
   "source": [
    "# Summary statistics for X2 (rounded to 4 decimal places)\n",
    "X2_stats = df['X2'].describe().round(4)\n",
    "skewness = round(df['X2'].skew(), 4)\n",
    "kurtosis = round(df['X2'].kurtosis(), 4)\n",
    "\n",
    "print(\"Statistics for 'X2' column:\")\n",
    "print(X2_stats)\n",
    "print(f\"\\nSkewness of 'X2': {skewness}\")\n",
    "print(f\"Kurtosis of 'X2': {kurtosis}\")\n",
    "\n",
    "# Calculate Q1 (25th percentile) and Q3 (75th percentile)\n",
    "Q1 = df['X2'].quantile(0.25)\n",
    "Q3 = df['X2'].quantile(0.75)\n",
    "IQR = Q3 - Q1\n",
    "\n",
    "# Determine outlier boundaries\n",
    "lower_bound = Q1 - 1.5 * IQR\n",
    "upper_bound = Q3 + 1.5 * IQR\n",
    "\n",
    "# Identify outliers in X2\n",
    "outliers = df[(df['X2'] < lower_bound) | (df['X2'] > upper_bound)]\n",
    "\n",
    "# Calculate the number and percentage of outliers\n",
    "number_outliers = len(outliers)\n",
    "percentage_outliers = (len(outliers) / len(df)) * 100\n",
    "\n",
    "# Print number and percentage of outliers\n",
    "print(f\"\\nNumber of Outliers: {number_outliers}\")\n",
    "print(f\"Percentage of Outliers: {percentage_outliers:.2f}%\")\n",
    "\n",
    "# Set up side-by-side plots\n",
    "fig, axes = plt.subplots(1, 2, figsize=(10, 4))\n",
    "\n",
    "# Boxplot for 'X2' column\n",
    "sns.boxplot(x=df['X2'], ax=axes[0])\n",
    "axes[0].set_title(\"Boxplot of X2\")\n",
    "\n",
    "# Histogram for 'X2' column\n",
    "sns.histplot(df['X2'], kde=True, ax=axes[1])\n",
    "axes[1].set_title(\"Distribution of X2\")\n",
    "\n",
    "plt.tight_layout()\n",
    "plt.show()"
   ]
  },
  {
   "cell_type": "markdown",
   "id": "6efc862e-0e24-4cae-ac24-8ddf19bde7f4",
   "metadata": {},
   "source": [
    "#### From the results above, X2 has 110 data points which ranges from 1 to 5 where 25% is 2, 50%/75% is 3. It is normally distributed, it has 5 outliers, it has mean and standard deviation values of 2.5364 and 1.1061 respectively."
   ]
  },
  {
   "cell_type": "markdown",
   "id": "bef3bcbc-d0fa-4029-8857-ede191318365",
   "metadata": {},
   "source": [
    "##### Codes below handle the outliers using winsorization method."
   ]
  },
  {
   "cell_type": "code",
   "execution_count": 7,
   "id": "b6d37d93-931b-40a8-b064-b3146b0f97e2",
   "metadata": {},
   "outputs": [],
   "source": [
    "df['X2'] = winsorize(df['X2'], limits=[0.05, 0.05]).data"
   ]
  },
  {
   "cell_type": "markdown",
   "id": "9793922a-a42d-48fc-a093-ea0a75d4308e",
   "metadata": {},
   "source": [
    "##### Codes below examine the effect of the wisorization on X2 "
   ]
  },
  {
   "cell_type": "code",
   "execution_count": 9,
   "id": "271f40bf-6c10-4a57-b063-f5424749b2b9",
   "metadata": {},
   "outputs": [
    {
     "name": "stdout",
     "output_type": "stream",
     "text": [
      "Statistics for 'X2' column:\n",
      "count    110.0000\n",
      "mean       2.4909\n",
      "std        1.0204\n",
      "min        1.0000\n",
      "25%        2.0000\n",
      "50%        3.0000\n",
      "75%        3.0000\n",
      "max        4.0000\n",
      "Name: X2, dtype: float64\n",
      "\n",
      "Skewness of 'X2': -0.0541\n",
      "Kurtosis of 'X2': -1.103\n",
      "\n",
      "Number of Outliers: 0\n",
      "Percentage of Outliers: 0.00%\n"
     ]
    },
    {
     "data": {
      "image/png": "[encoded data removed]",
      "text/plain": [
       "<Figure size 1000x400 with 2 Axes>"
      ]
     },
     "metadata": {},
     "output_type": "display_data"
    }
   ],
   "source": [
    "# Summary statistics for X2 (rounded to 4 decimal places)\n",
    "X2_stats = df['X2'].describe().round(4)\n",
    "skewness = round(df['X2'].skew(), 4)\n",
    "kurtosis = round(df['X2'].kurtosis(), 4)\n",
    "\n",
    "print(\"Statistics for 'X2' column:\")\n",
    "print(X2_stats)\n",
    "print(f\"\\nSkewness of 'X2': {skewness}\")\n",
    "print(f\"Kurtosis of 'X2': {kurtosis}\")\n",
    "\n",
    "# Calculate Q1 (25th percentile) and Q3 (75th percentile)\n",
    "Q1 = df['X2'].quantile(0.25)\n",
    "Q3 = df['X2'].quantile(0.75)\n",
    "IQR = Q3 - Q1\n",
    "\n",
    "# Determine outlier boundaries\n",
    "lower_bound = Q1 - 1.5 * IQR\n",
    "upper_bound = Q3 + 1.5 * IQR\n",
    "\n",
    "# Identify outliers in X2\n",
    "outliers = df[(df['X2'] < lower_bound) | (df['X2'] > upper_bound)]\n",
    "\n",
    "# Calculate the number and percentage of outliers\n",
    "number_outliers = len(outliers)\n",
    "percentage_outliers = (len(outliers) / len(df)) * 100\n",
    "\n",
    "# Print number and percentage of outliers\n",
    "print(f\"\\nNumber of Outliers: {number_outliers}\")\n",
    "print(f\"Percentage of Outliers: {percentage_outliers:.2f}%\")\n",
    "\n",
    "# Set up side-by-side plots\n",
    "fig, axes = plt.subplots(1, 2, figsize=(10, 4))\n",
    "\n",
    "# Boxplot for 'X2' column\n",
    "sns.boxplot(x=df['X2'], ax=axes[0])\n",
    "axes[0].set_title(\"Boxplot of X2\")\n",
    "\n",
    "# Histogram for 'X2' column\n",
    "sns.histplot(df['X2'], kde=True, ax=axes[1])\n",
    "axes[1].set_title(\"Distribution of X2\")\n",
    "\n",
    "plt.tight_layout()\n",
    "plt.show()"
   ]
  },
  {
   "cell_type": "markdown",
   "id": "9961aeac-a595-4b27-bbf7-98899e99f2de",
   "metadata": {},
   "source": [
    "#### From the result above, the outliers has been reduced from 5 to 0( no more outliers) after winsorization."
   ]
  },
  {
   "cell_type": "markdown",
   "id": "fee732c9-f31d-4850-a17b-33d9cdac85a3",
   "metadata": {},
   "source": [
    "##### Codes below standardize X2 column using z-score method."
   ]
  },
  {
   "cell_type": "code",
   "execution_count": 59,
   "id": "a6fc386f-f9e1-4f40-a415-9460d0d90de8",
   "metadata": {},
   "outputs": [],
   "source": [
    "scaler = StandardScaler()\n",
    "\n",
    "# Standardize X2 in place\n",
    "df['X2'] = scaler.fit_transform(df[['X2']])"
   ]
  },
  {
   "cell_type": "markdown",
   "id": "3c3046c6-23d6-4fc5-bc94-a9550ca238ba",
   "metadata": {},
   "source": [
    "##### Codes below display X2 statistics againg after standardization."
   ]
  },
  {
   "cell_type": "code",
   "execution_count": 61,
   "id": "3821e6fb-d923-492d-9619-ca336f7c081d",
   "metadata": {},
   "outputs": [
    {
     "name": "stdout",
     "output_type": "stream",
     "text": [
      "Statistics for 'X2' column:\n",
      "count    110.0000\n",
      "mean       0.0000\n",
      "std        1.0046\n",
      "min       -1.4678\n",
      "25%       -0.4833\n",
      "50%        0.5012\n",
      "75%        0.5012\n",
      "max        1.4857\n",
      "Name: X2, dtype: float64\n"
     ]
    }
   ],
   "source": [
    "X2_stats = df['X2'].describe().round(4)\n",
    "\n",
    "print(\"Statistics for 'X2' column:\")\n",
    "print(X2_stats)"
   ]
  },
  {
   "cell_type": "markdown",
   "id": "0424bb26-68b3-4b88-a31d-e0560416d300",
   "metadata": {},
   "source": [
    "#### From the result above, the mean and the standarded deviation values have been set to 0 and 1 respectively as expected."
   ]
  },
  {
   "cell_type": "code",
   "execution_count": null,
   "id": "bb5c0091-16ff-4521-915e-93cb8e8d9bc0",
   "metadata": {},
   "outputs": [],
   "source": []
  },
  {
   "cell_type": "markdown",
   "id": "e444debf-72fc-4457-ab24-818afb5f9296",
   "metadata": {},
   "source": [
    "### X3 column analysis"
   ]
  },
  {
   "cell_type": "markdown",
   "id": "72a234cb-5e61-4e17-8613-43c0ce2d415d",
   "metadata": {},
   "source": [
    "##### Codes below examine X3 column for missing values"
   ]
  },
  {
   "cell_type": "code",
   "execution_count": 13,
   "id": "1ee2bc29-e167-4fe9-a488-7c58d289e972",
   "metadata": {},
   "outputs": [
    {
     "data": {
      "text/plain": [
       "np.int64(0)"
      ]
     },
     "execution_count": 13,
     "metadata": {},
     "output_type": "execute_result"
    }
   ],
   "source": [
    "df[\"X3\"].isna().sum()"
   ]
  },
  {
   "cell_type": "markdown",
   "id": "f90f9b85-319d-47a0-9ed1-8dea95e24096",
   "metadata": {},
   "source": [
    "#### From the result above, X3 has no missing values."
   ]
  },
  {
   "cell_type": "code",
   "execution_count": null,
   "id": "466c7325-9a27-4ea5-88c6-55a558539684",
   "metadata": {},
   "outputs": [],
   "source": []
  },
  {
   "cell_type": "markdown",
   "id": "29481c8e-e5a8-4221-84e4-84ed952261e5",
   "metadata": {},
   "source": [
    "##### Codes below examine X3 for the following:\n",
    "##### statistics\n",
    "##### presence of outliers\n",
    "##### skewness and kurtosis.\n",
    "##### its distribution using box plot and histogram."
   ]
  },
  {
   "cell_type": "code",
   "execution_count": 31,
   "id": "025c1744-d31e-47cc-a4bd-09ed2df6afc2",
   "metadata": {},
   "outputs": [
    {
     "name": "stdout",
     "output_type": "stream",
     "text": [
      "Statistics for 'X3' column:\n",
      "count    110.0000\n",
      "mean       3.2727\n",
      "std        1.0128\n",
      "min        1.0000\n",
      "25%        3.0000\n",
      "50%        3.0000\n",
      "75%        4.0000\n",
      "max        5.0000\n",
      "Name: X3, dtype: float64\n",
      "\n",
      "Skewness of 'X3': -0.1414\n",
      "Kurtosis of 'X3': -0.0757\n",
      "\n",
      "Number of Outliers: 6\n",
      "Percentage of Outliers: 5.45%\n"
     ]
    },
    {
     "data": {
      "image/png": "[encoded data removed]",
      "text/plain": [
       "<Figure size 1000x400 with 2 Axes>"
      ]
     },
     "metadata": {},
     "output_type": "display_data"
    }
   ],
   "source": [
    "# Summary statistics for X3 (rounded to 4 decimal places)\n",
    "X3_stats = df['X3'].describe().round(4)\n",
    "skewness = round(df['X3'].skew(), 4)\n",
    "kurtosis = round(df['X3'].kurtosis(), 4)\n",
    "\n",
    "print(\"Statistics for 'X3' column:\")\n",
    "print(X3_stats)\n",
    "print(f\"\\nSkewness of 'X3': {skewness}\")\n",
    "print(f\"Kurtosis of 'X3': {kurtosis}\")\n",
    "\n",
    "# Calculate Q1 (25th percentile) and Q3 (75th percentile)\n",
    "Q1 = df['X3'].quantile(0.25)\n",
    "Q3 = df['X3'].quantile(0.75)\n",
    "IQR = Q3 - Q1\n",
    "\n",
    "# Determine outlier boundaries\n",
    "lower_bound = Q1 - 1.5 * IQR\n",
    "upper_bound = Q3 + 1.5 * IQR\n",
    "\n",
    "# Identify outliers in X3\n",
    "outliers = df[(df['X3'] < lower_bound) | (df['X3'] > upper_bound)]\n",
    "\n",
    "# Calculate the number and percentage of outliers\n",
    "number_outliers = len(outliers)\n",
    "percentage_outliers = (len(outliers) / len(df)) * 100\n",
    "\n",
    "# Print number and percentage of outliers\n",
    "print(f\"\\nNumber of Outliers: {number_outliers}\")\n",
    "print(f\"Percentage of Outliers: {percentage_outliers:.2f}%\")\n",
    "\n",
    "# Set up side-by-side plots\n",
    "fig, axes = plt.subplots(1, 2, figsize=(10, 4))\n",
    "\n",
    "# Boxplot for 'X3' column\n",
    "sns.boxplot(x=df['X3'], ax=axes[0])\n",
    "axes[0].set_title(\"Boxplot of X3\")\n",
    "\n",
    "# Histogram for 'X3' column\n",
    "sns.histplot(df['X3'], kde=True, ax=axes[1])\n",
    "axes[1].set_title(\"Distribution of X3\")\n",
    "\n",
    "plt.tight_layout()\n",
    "plt.show()"
   ]
  },
  {
   "cell_type": "markdown",
   "id": "44bd92cc-a827-4819-8ad1-d3f58857cd99",
   "metadata": {},
   "source": [
    "#### From the results  above, X3 has 110 data points which ranges from 1 to 5 where 25%/50% is 3 and 75% is 4. It is normally distributed, has 6 outliers, mean and standard deviation value of 3.2727 and 1,0128 respectively."
   ]
  },
  {
   "cell_type": "markdown",
   "id": "31fa5d38-288f-4ade-92ef-6ccb414410a6",
   "metadata": {},
   "source": [
    "##### Codes below Handle outliers in X3  using winsorization method."
   ]
  },
  {
   "cell_type": "code",
   "execution_count": 11,
   "id": "d20a3e8a-99f3-4640-8e75-7168f83c4cd4",
   "metadata": {},
   "outputs": [],
   "source": [
    "df['X3'] = winsorize(df['X3'], limits=[0.10, 0.10]).data"
   ]
  },
  {
   "cell_type": "markdown",
   "id": "ca334c34-4618-487a-9813-25f76ec96570",
   "metadata": {},
   "source": [
    "##### Codes below examine the effect of winsorization on X3."
   ]
  },
  {
   "cell_type": "code",
   "execution_count": 13,
   "id": "bb439f43-fc1b-4436-a7e0-8ce5c2dad4cd",
   "metadata": {},
   "outputs": [
    {
     "name": "stdout",
     "output_type": "stream",
     "text": [
      "Statistics for 'X3' column:\n",
      "count    110.0000\n",
      "mean       3.3273\n",
      "std        0.9098\n",
      "min        2.0000\n",
      "25%        3.0000\n",
      "50%        3.0000\n",
      "75%        4.0000\n",
      "max        5.0000\n",
      "Name: X3, dtype: float64\n",
      "\n",
      "Skewness of 'X3': 0.3421\n",
      "Kurtosis of 'X3': -0.6128\n",
      "\n",
      "Number of Outliers: 0\n",
      "Percentage of Outliers: 0.00%\n"
     ]
    },
    {
     "data": {
      "image/png": "[encoded data removed]",
      "text/plain": [
       "<Figure size 1000x400 with 2 Axes>"
      ]
     },
     "metadata": {},
     "output_type": "display_data"
    }
   ],
   "source": [
    "# Summary statistics for X3 (rounded to 4 decimal places)\n",
    "X3_stats = df['X3'].describe().round(4)\n",
    "skewness = round(df['X3'].skew(), 4)\n",
    "kurtosis = round(df['X3'].kurtosis(), 4)\n",
    "\n",
    "print(\"Statistics for 'X3' column:\")\n",
    "print(X3_stats)\n",
    "print(f\"\\nSkewness of 'X3': {skewness}\")\n",
    "print(f\"Kurtosis of 'X3': {kurtosis}\")\n",
    "\n",
    "# Calculate Q1 (25th percentile) and Q3 (75th percentile)\n",
    "Q1 = df['X3'].quantile(0.25)\n",
    "Q3 = df['X3'].quantile(0.75)\n",
    "IQR = Q3 - Q1\n",
    "\n",
    "# Determine outlier boundaries\n",
    "lower_bound = Q1 - 1.5 * IQR\n",
    "upper_bound = Q3 + 1.5 * IQR\n",
    "\n",
    "# Identify outliers in X3\n",
    "outliers = df[(df['X3'] < lower_bound) | (df['X3'] > upper_bound)]\n",
    "\n",
    "# Calculate the number and percentage of outliers\n",
    "number_outliers = len(outliers)\n",
    "percentage_outliers = (len(outliers) / len(df)) * 100\n",
    "\n",
    "# Print number and percentage of outliers\n",
    "print(f\"\\nNumber of Outliers: {number_outliers}\")\n",
    "print(f\"Percentage of Outliers: {percentage_outliers:.2f}%\")\n",
    "\n",
    "# Set up side-by-side plots\n",
    "fig, axes = plt.subplots(1, 2, figsize=(10, 4))\n",
    "\n",
    "# Boxplot for 'X3' column\n",
    "sns.boxplot(x=df['X3'], ax=axes[0])\n",
    "axes[0].set_title(\"Boxplot of X3\")\n",
    "\n",
    "# Histogram for 'X3' column\n",
    "sns.histplot(df['X3'], kde=True, ax=axes[1])\n",
    "axes[1].set_title(\"Distribution of X3\")\n",
    "\n",
    "plt.tight_layout()\n",
    "plt.show()"
   ]
  },
  {
   "cell_type": "markdown",
   "id": "0477d807-7802-4062-9b42-64ae15de51c1",
   "metadata": {},
   "source": [
    "#### From the result above, the outliers reduced from 6 to 0(no more outliers) after winsorization."
   ]
  },
  {
   "cell_type": "markdown",
   "id": "ae6bb38f-fd2f-45fb-8b58-6b3ed409d600",
   "metadata": {},
   "source": [
    "##### Codes below standardize X3 using z-score method."
   ]
  },
  {
   "cell_type": "code",
   "execution_count": 73,
   "id": "8790883e-b094-4a74-889e-d4b29a009008",
   "metadata": {},
   "outputs": [],
   "source": [
    "scaler = StandardScaler()\n",
    "\n",
    "# Standardize X2 in place\n",
    "df['X3'] = scaler.fit_transform(df[['X3']])\n"
   ]
  },
  {
   "cell_type": "markdown",
   "id": "6f2b99e1-91d3-4ba7-affd-cc4ca510038a",
   "metadata": {},
   "source": [
    "##### Codes below examine X3 statistics again after standardization."
   ]
  },
  {
   "cell_type": "code",
   "execution_count": 75,
   "id": "f721c842-d666-415a-8f2c-e38e4a2446c0",
   "metadata": {},
   "outputs": [
    {
     "name": "stdout",
     "output_type": "stream",
     "text": [
      "Statistics for 'X3' column:\n",
      "count    110.0000\n",
      "mean       0.0000\n",
      "std        1.0046\n",
      "min       -1.4678\n",
      "25%       -0.4833\n",
      "50%        0.5012\n",
      "75%        0.5012\n",
      "max        1.4857\n",
      "Name: X2, dtype: float64\n"
     ]
    }
   ],
   "source": [
    "X3_stats = df['X3'].describe().round(4)\n",
    "\n",
    "print(\"Statistics for 'X3' column:\")\n",
    "print(X3_stats)"
   ]
  },
  {
   "cell_type": "markdown",
   "id": "5f53adf0-7e8c-4b83-9cc6-c09ed741cb14",
   "metadata": {},
   "source": [
    "#### From the result above, the mean and the standard deviation values of X3 have been set to 0 and 1 repectively as expected."
   ]
  },
  {
   "cell_type": "code",
   "execution_count": null,
   "id": "9c13eda3-2ac1-4669-afcb-9a39fffff1e9",
   "metadata": {},
   "outputs": [],
   "source": []
  },
  {
   "cell_type": "markdown",
   "id": "c142bdac-1d6d-494e-ace1-48b8ebb55e66",
   "metadata": {},
   "source": [
    "### Column X4 analysis."
   ]
  },
  {
   "cell_type": "markdown",
   "id": "43547b04-f683-4047-aeaf-57438c784de8",
   "metadata": {},
   "source": [
    "##### Codes below examine X4 column for missing values."
   ]
  },
  {
   "cell_type": "code",
   "execution_count": 15,
   "id": "5a6d181b-90a6-4bbe-a485-b799d0e963c8",
   "metadata": {},
   "outputs": [
    {
     "data": {
      "text/plain": [
       "np.int64(0)"
      ]
     },
     "execution_count": 15,
     "metadata": {},
     "output_type": "execute_result"
    }
   ],
   "source": [
    "df[\"X4\"].isna().sum()"
   ]
  },
  {
   "cell_type": "markdown",
   "id": "8eb6da56-e5c9-4ea8-a6d9-cde844c59b5a",
   "metadata": {},
   "source": [
    "#### From the result above, X4 has no missing values."
   ]
  },
  {
   "cell_type": "code",
   "execution_count": null,
   "id": "73f57a73-e549-4294-ba3f-4707b803df20",
   "metadata": {},
   "outputs": [],
   "source": []
  },
  {
   "cell_type": "markdown",
   "id": "a20d1915-beb8-4246-a14a-b85810d31094",
   "metadata": {},
   "source": [
    "##### Codes below examine X4 for the following:\n",
    "##### statistics\n",
    "##### presence of outliers\n",
    "##### skewness and kurtosis.\n",
    "##### its distribution using box plot and histogram."
   ]
  },
  {
   "cell_type": "code",
   "execution_count": 17,
   "id": "e2f67f27-38e0-4ee9-82b3-f6cff74ffdc7",
   "metadata": {},
   "outputs": [
    {
     "name": "stdout",
     "output_type": "stream",
     "text": [
      "Statistics for 'X4' column:\n",
      "count    110.0000\n",
      "mean       3.7364\n",
      "std        0.8952\n",
      "min        1.0000\n",
      "25%        3.0000\n",
      "50%        4.0000\n",
      "75%        4.0000\n",
      "max        5.0000\n",
      "Name: X4, dtype: float64\n",
      "\n",
      "Skewness of 'X4': -0.4675\n",
      "Kurtosis of 'X4': 0.2992\n",
      "\n",
      "Number of Outliers: 2\n",
      "Percentage of Outliers: 1.82%\n"
     ]
    },
    {
     "data": {
      "image/png": "[encoded data removed]",
      "text/plain": [
       "<Figure size 1000x400 with 2 Axes>"
      ]
     },
     "metadata": {},
     "output_type": "display_data"
    }
   ],
   "source": [
    "# Summary statistics for X4 (rounded to 4 decimal places)\n",
    "X4_stats = df['X4'].describe().round(4)\n",
    "skewness = round(df['X4'].skew(), 4)\n",
    "kurtosis = round(df['X4'].kurtosis(), 4)\n",
    "\n",
    "print(\"Statistics for 'X4' column:\")\n",
    "print(X4_stats)\n",
    "print(f\"\\nSkewness of 'X4': {skewness}\")\n",
    "print(f\"Kurtosis of 'X4': {kurtosis}\")\n",
    "\n",
    "# Calculate Q1 (25th percentile) and Q3 (75th percentile)\n",
    "Q1 = df['X4'].quantile(0.25)\n",
    "Q3 = df['X4'].quantile(0.75)\n",
    "IQR = Q3 - Q1\n",
    "\n",
    "# Determine outlier boundaries\n",
    "lower_bound = Q1 - 1.5 * IQR\n",
    "upper_bound = Q3 + 1.5 * IQR\n",
    "\n",
    "# Identify outliers in X4\n",
    "outliers = df[(df['X4'] < lower_bound) | (df['X4'] > upper_bound)]\n",
    "\n",
    "# Calculate the number and percentage of outliers\n",
    "number_outliers = len(outliers)\n",
    "percentage_outliers = (len(outliers) / len(df)) * 100\n",
    "\n",
    "# Print number and percentage of outliers\n",
    "print(f\"\\nNumber of Outliers: {number_outliers}\")\n",
    "print(f\"Percentage of Outliers: {percentage_outliers:.2f}%\")\n",
    "\n",
    "# Set up side-by-side plots\n",
    "fig, axes = plt.subplots(1, 2, figsize=(10, 4))\n",
    "\n",
    "# Boxplot for 'X4' column\n",
    "sns.boxplot(x=df['X4'], ax=axes[0])\n",
    "axes[0].set_title(\"Boxplot of X4\")\n",
    "\n",
    "# Histogram for 'X4' column\n",
    "sns.histplot(df['X4'], kde=True, ax=axes[1])\n",
    "axes[1].set_title(\"Distribution of X4\")\n",
    "\n",
    "plt.tight_layout()\n",
    "plt.show()"
   ]
  },
  {
   "cell_type": "markdown",
   "id": "b463fd40-3d07-4d3b-8a9f-58cd0a3e28c1",
   "metadata": {},
   "source": [
    "#### From the results above, X4 has 110 data points which ranges from 1 to 5 where 25% is 3 and 50%/75% is 3. It is approximately normally distributed, it has 2 outliers, mean and standard deviation values of 3.7364 and 0.8952 respectively."
   ]
  },
  {
   "cell_type": "markdown",
   "id": "f6f9c8e5-53b5-4b46-8dc3-322e359ab165",
   "metadata": {},
   "source": [
    "##### Codes below handle outliers in X4  using winsorization method."
   ]
  },
  {
   "cell_type": "code",
   "execution_count": 15,
   "id": "7379958b-95b9-40db-88f8-25b4210f6f30",
   "metadata": {},
   "outputs": [],
   "source": [
    "df['X4'] = winsorize(df['X4'], limits=[0.05, 0.05]).data"
   ]
  },
  {
   "cell_type": "markdown",
   "id": "f557241a-3545-4a6d-b3ab-0312ab97c733",
   "metadata": {},
   "source": [
    "##### Codes below examine the effect of the wisorization on X4"
   ]
  },
  {
   "cell_type": "code",
   "execution_count": 17,
   "id": "8e7fd3f6-a6c8-4a2a-9905-1be347ad1b87",
   "metadata": {},
   "outputs": [
    {
     "name": "stdout",
     "output_type": "stream",
     "text": [
      "Statistics for 'X4' column:\n",
      "count    110.0000\n",
      "mean       3.7545\n",
      "std        0.8479\n",
      "min        2.0000\n",
      "25%        3.0000\n",
      "50%        4.0000\n",
      "75%        4.0000\n",
      "max        5.0000\n",
      "Name: X4, dtype: float64\n",
      "\n",
      "Skewness of 'X4': -0.1481\n",
      "Kurtosis of 'X4': -0.6322\n",
      "\n",
      "Number of Outliers: 0\n",
      "Percentage of Outliers: 0.00%\n"
     ]
    },
    {
     "data": {
      "image/png": "[encoded data removed]",
      "text/plain": [
       "<Figure size 1000x400 with 2 Axes>"
      ]
     },
     "metadata": {},
     "output_type": "display_data"
    }
   ],
   "source": [
    "# Summary statistics for X4 (rounded to 4 decimal places)\n",
    "X4_stats = df['X4'].describe().round(4)\n",
    "skewness = round(df['X4'].skew(), 4)\n",
    "kurtosis = round(df['X4'].kurtosis(), 4)\n",
    "\n",
    "print(\"Statistics for 'X4' column:\")\n",
    "print(X4_stats)\n",
    "print(f\"\\nSkewness of 'X4': {skewness}\")\n",
    "print(f\"Kurtosis of 'X4': {kurtosis}\")\n",
    "\n",
    "# Calculate Q1 (25th percentile) and Q3 (75th percentile)\n",
    "Q1 = df['X4'].quantile(0.25)\n",
    "Q3 = df['X4'].quantile(0.75)\n",
    "IQR = Q3 - Q1\n",
    "\n",
    "# Determine outlier boundaries\n",
    "lower_bound = Q1 - 1.5 * IQR\n",
    "upper_bound = Q3 + 1.5 * IQR\n",
    "\n",
    "# Identify outliers in X4\n",
    "outliers = df[(df['X4'] < lower_bound) | (df['X4'] > upper_bound)]\n",
    "\n",
    "# Calculate the number and percentage of outliers\n",
    "number_outliers = len(outliers)\n",
    "percentage_outliers = (len(outliers) / len(df)) * 100\n",
    "\n",
    "# Print number and percentage of outliers\n",
    "print(f\"\\nNumber of Outliers: {number_outliers}\")\n",
    "print(f\"Percentage of Outliers: {percentage_outliers:.2f}%\")\n",
    "\n",
    "# Set up side-by-side plots\n",
    "fig, axes = plt.subplots(1, 2, figsize=(10, 4))\n",
    "\n",
    "# Boxplot for 'X4' column\n",
    "sns.boxplot(x=df['X4'], ax=axes[0])\n",
    "axes[0].set_title(\"Boxplot of X4\")\n",
    "\n",
    "# Histogram for 'X4' column\n",
    "sns.histplot(df['X4'], kde=True, ax=axes[1])\n",
    "axes[1].set_title(\"Distribution of X4\")\n",
    "\n",
    "plt.tight_layout()\n",
    "plt.show()"
   ]
  },
  {
   "cell_type": "markdown",
   "id": "529f89dd-0848-4b3d-8444-05d234a2652a",
   "metadata": {},
   "source": [
    "#### From the result above, the outliers reduced from 2 to 0 (no more outliers) after winsorization."
   ]
  },
  {
   "cell_type": "markdown",
   "id": "ec5963e8-0c11-4e21-a3f6-60ffd9a66c99",
   "metadata": {},
   "source": [
    "##### Codes below standardize X4 using z-score"
   ]
  },
  {
   "cell_type": "code",
   "execution_count": 27,
   "id": "dc536f20-7477-4f2c-bcfc-05ce70d1b4ca",
   "metadata": {},
   "outputs": [],
   "source": [
    "scaler = StandardScaler()\n",
    "\n",
    "# Standardize X4 in place\n",
    "df['X4'] = scaler.fit_transform(df[['X4']])"
   ]
  },
  {
   "cell_type": "markdown",
   "id": "20aec886-634c-42ca-b3c0-2e5e6e5326b2",
   "metadata": {},
   "source": [
    "##### Codes below examine the effect of standardization on X4."
   ]
  },
  {
   "cell_type": "code",
   "execution_count": 29,
   "id": "e8d5be7e-6690-48e7-8284-a9dae5009298",
   "metadata": {},
   "outputs": [
    {
     "name": "stdout",
     "output_type": "stream",
     "text": [
      "Statistics for 'X4' column:\n",
      "count    110.0000\n",
      "mean       0.0000\n",
      "std        1.0046\n",
      "min       -2.0786\n",
      "25%       -0.8939\n",
      "50%        0.2908\n",
      "75%        0.2908\n",
      "max        1.4755\n",
      "Name: X4, dtype: float64\n"
     ]
    }
   ],
   "source": [
    "X4_stats = df['X4'].describe().round(4)\n",
    "\n",
    "print(\"Statistics for 'X4' column:\")\n",
    "print(X4_stats)"
   ]
  },
  {
   "cell_type": "markdown",
   "id": "4955d24f-39fe-4c07-b49e-fd768e67528b",
   "metadata": {},
   "source": [
    "#### From the result above, the mean and standard deviation of X4 have been set to 0 and 1 as expected after standardization."
   ]
  },
  {
   "cell_type": "code",
   "execution_count": null,
   "id": "b9fea19c-c86b-4d2f-bf67-66612ec30c7a",
   "metadata": {},
   "outputs": [],
   "source": []
  },
  {
   "cell_type": "markdown",
   "id": "6c1e7154-7cfe-4b90-a926-64168b321a27",
   "metadata": {},
   "source": [
    "### X5 Column analysis."
   ]
  },
  {
   "cell_type": "markdown",
   "id": "f0fe7a20-f2f0-4f29-a848-f1922d414a40",
   "metadata": {},
   "source": [
    "##### Codes below examine X5 column for missing values."
   ]
  },
  {
   "cell_type": "code",
   "execution_count": 47,
   "id": "9ec269de-5d1f-4c9a-b1a7-ef10d9d36116",
   "metadata": {},
   "outputs": [
    {
     "data": {
      "text/plain": [
       "np.int64(0)"
      ]
     },
     "execution_count": 47,
     "metadata": {},
     "output_type": "execute_result"
    }
   ],
   "source": [
    "df[\"X5\"].isna().sum()"
   ]
  },
  {
   "cell_type": "markdown",
   "id": "15a8e2ba-d89f-43f2-be9b-8df39366b922",
   "metadata": {},
   "source": [
    "#### From the result above, X5 has no miss value"
   ]
  },
  {
   "cell_type": "code",
   "execution_count": null,
   "id": "2dd5454a-6c38-40e5-a9a6-ab33caa02211",
   "metadata": {},
   "outputs": [],
   "source": []
  },
  {
   "cell_type": "markdown",
   "id": "d3bbb11c-0e9d-4019-ae68-7aaad52eca0a",
   "metadata": {},
   "source": [
    "##### Code below Examine X5 for the following:\n",
    "##### statistics\n",
    "##### presence of outliers\n",
    "##### skewness and kurtosis.\n",
    "##### its distribution using box plot and histogram."
   ]
  },
  {
   "cell_type": "code",
   "execution_count": 31,
   "id": "c2bea89b-afb6-4826-a014-e019868acbef",
   "metadata": {},
   "outputs": [
    {
     "name": "stdout",
     "output_type": "stream",
     "text": [
      "Statistics for 'X5' column:\n",
      "count    110.0000\n",
      "mean       3.5909\n",
      "std        1.1909\n",
      "min        1.0000\n",
      "25%        3.0000\n",
      "50%        4.0000\n",
      "75%        4.0000\n",
      "max        5.0000\n",
      "Name: X5, dtype: float64\n",
      "\n",
      "Skewness of 'X5': -0.6182\n",
      "Kurtosis of 'X5': -0.5407\n",
      "\n",
      "Number of Outliers: 7\n",
      "Percentage of Outliers: 6.36%\n"
     ]
    },
    {
     "data": {
      "image/png": "[encoded data removed]",
      "text/plain": [
       "<Figure size 1000x400 with 2 Axes>"
      ]
     },
     "metadata": {},
     "output_type": "display_data"
    }
   ],
   "source": [
    "# Summary statistics for X5 (rounded to 4 decimal places)\n",
    "X5_stats = df['X5'].describe().round(4)\n",
    "skewness = round(df['X5'].skew(), 4)\n",
    "kurtosis = round(df['X5'].kurtosis(), 4)\n",
    "\n",
    "print(\"Statistics for 'X5' column:\")\n",
    "print(X5_stats)\n",
    "print(f\"\\nSkewness of 'X5': {skewness}\")\n",
    "print(f\"Kurtosis of 'X5': {kurtosis}\")\n",
    "\n",
    "# Calculate Q1 (25th percentile) and Q3 (75th percentile)\n",
    "Q1 = df['X5'].quantile(0.25)\n",
    "Q3 = df['X5'].quantile(0.75)\n",
    "IQR = Q3 - Q1\n",
    "\n",
    "# Determine outlier boundaries\n",
    "lower_bound = Q1 - 1.5 * IQR\n",
    "upper_bound = Q3 + 1.5 * IQR\n",
    "\n",
    "# Identify outliers in X5\n",
    "outliers = df[(df['X5'] < lower_bound) | (df['X5'] > upper_bound)]\n",
    "\n",
    "# Calculate the number and percentage of outliers\n",
    "number_outliers = len(outliers)\n",
    "percentage_outliers = (len(outliers) / len(df)) * 100\n",
    "\n",
    "# Print number and percentage of outliers\n",
    "print(f\"\\nNumber of Outliers: {number_outliers}\")\n",
    "print(f\"Percentage of Outliers: {percentage_outliers:.2f}%\")\n",
    "\n",
    "# Set up side-by-side plots\n",
    "fig, axes = plt.subplots(1, 2, figsize=(10, 4))\n",
    "\n",
    "# Boxplot for 'X5' column\n",
    "sns.boxplot(x=df['X5'], ax=axes[0])\n",
    "axes[0].set_title(\"Boxplot of X5\")\n",
    "\n",
    "# Histogram for 'X5' column\n",
    "sns.histplot(df['X5'], kde=True, ax=axes[1])\n",
    "axes[1].set_title(\"Distribution of X5\")\n",
    "\n",
    "plt.tight_layout()\n",
    "plt.show()"
   ]
  },
  {
   "cell_type": "markdown",
   "id": "bc59fd1e-8500-412e-b07b-24cb0499a4a9",
   "metadata": {},
   "source": [
    "#### From the results above, X5 has 110 data points which ranges from 1 to 5 where 25% is 3 and 50%/75% is 4. It is approximately normally distributed, it has 7 outliers, mean and standard deviation values of 3.5909 and 1.1909 respectively."
   ]
  },
  {
   "cell_type": "markdown",
   "id": "24dd0ff6-9c0e-4399-a2ad-018c7bb67d24",
   "metadata": {},
   "source": [
    "##### Codes below handle the outliers in X5 using winsorization method."
   ]
  },
  {
   "cell_type": "code",
   "execution_count": 19,
   "id": "3b15b62c-051e-422d-8da4-2f59d43ae1bd",
   "metadata": {},
   "outputs": [],
   "source": [
    "df['X5'] = winsorize(df['X5'], limits=[0.10, 0.10]).data"
   ]
  },
  {
   "cell_type": "markdown",
   "id": "e36accfa-c3eb-4898-aaad-7376acb476db",
   "metadata": {},
   "source": [
    "##### Codes below  examine the effect of winsorization on X5."
   ]
  },
  {
   "cell_type": "code",
   "execution_count": 21,
   "id": "b014b6dd-b168-4372-ad93-6f189d61c549",
   "metadata": {},
   "outputs": [
    {
     "name": "stdout",
     "output_type": "stream",
     "text": [
      "Statistics for 'X5' column:\n",
      "count    110.0000\n",
      "mean       3.6545\n",
      "std        1.0703\n",
      "min        2.0000\n",
      "25%        3.0000\n",
      "50%        4.0000\n",
      "75%        4.0000\n",
      "max        5.0000\n",
      "Name: X5, dtype: float64\n",
      "\n",
      "Skewness of 'X5': -0.3205\n",
      "Kurtosis of 'X5': -1.1278\n",
      "\n",
      "Number of Outliers: 0\n",
      "Percentage of Outliers: 0.00%\n"
     ]
    },
    {
     "data": {
      "image/png": "[encoded data removed]",
      "text/plain": [
       "<Figure size 1000x400 with 2 Axes>"
      ]
     },
     "metadata": {},
     "output_type": "display_data"
    }
   ],
   "source": [
    "# Summary statistics for X5 (rounded to 4 decimal places)\n",
    "X5_stats = df['X5'].describe().round(4)\n",
    "skewness = round(df['X5'].skew(), 4)\n",
    "kurtosis = round(df['X5'].kurtosis(), 4)\n",
    "\n",
    "print(\"Statistics for 'X5' column:\")\n",
    "print(X5_stats)\n",
    "print(f\"\\nSkewness of 'X5': {skewness}\")\n",
    "print(f\"Kurtosis of 'X5': {kurtosis}\")\n",
    "\n",
    "# Calculate Q1 (25th percentile) and Q3 (75th percentile)\n",
    "Q1 = df['X5'].quantile(0.25)\n",
    "Q3 = df['X5'].quantile(0.75)\n",
    "IQR = Q3 - Q1\n",
    "\n",
    "# Determine outlier boundaries\n",
    "lower_bound = Q1 - 1.5 * IQR\n",
    "upper_bound = Q3 + 1.5 * IQR\n",
    "\n",
    "# Identify outliers in X5\n",
    "outliers = df[(df['X5'] < lower_bound) | (df['X5'] > upper_bound)]\n",
    "\n",
    "# Calculate the number and percentage of outliers\n",
    "number_outliers = len(outliers)\n",
    "percentage_outliers = (len(outliers) / len(df)) * 100\n",
    "\n",
    "# Print number and percentage of outliers\n",
    "print(f\"\\nNumber of Outliers: {number_outliers}\")\n",
    "print(f\"Percentage of Outliers: {percentage_outliers:.2f}%\")\n",
    "\n",
    "# Set up side-by-side plots\n",
    "fig, axes = plt.subplots(1, 2, figsize=(10, 4))\n",
    "\n",
    "# Boxplot for 'X5' column\n",
    "sns.boxplot(x=df['X5'], ax=axes[0])\n",
    "axes[0].set_title(\"Boxplot of X5\")\n",
    "\n",
    "# Histogram for 'X5' column\n",
    "sns.histplot(df['X5'], kde=True, ax=axes[1])\n",
    "axes[1].set_title(\"Distribution of X5\")\n",
    "\n",
    "plt.tight_layout()\n",
    "plt.show()"
   ]
  },
  {
   "cell_type": "markdown",
   "id": "83cf6d71-552a-4624-a34c-5b7b47c80292",
   "metadata": {},
   "source": [
    "#### From the result above, outliers has reduced from 7 to 0(no more outliers) after winsorization."
   ]
  },
  {
   "cell_type": "markdown",
   "id": "f78206e0-3985-4c0b-b8e9-c96a7e8e46f9",
   "metadata": {},
   "source": [
    "##### Codes below standardize X5 using Z-score method."
   ]
  },
  {
   "cell_type": "code",
   "execution_count": 43,
   "id": "59337978-7658-4395-8957-4b852d48fc61",
   "metadata": {},
   "outputs": [],
   "source": [
    "scaler = StandardScaler()\n",
    "\n",
    "# Standardize X5 in place\n",
    "df['X5'] = scaler.fit_transform(df[['X5']])"
   ]
  },
  {
   "cell_type": "markdown",
   "id": "e6c0aa02-0153-44bc-94f7-91de13b20690",
   "metadata": {},
   "source": [
    "##### Codes below display X5 statistics again after standardization."
   ]
  },
  {
   "cell_type": "code",
   "execution_count": 45,
   "id": "42ad0e34-4341-430a-a198-586bfe6da90c",
   "metadata": {},
   "outputs": [
    {
     "name": "stdout",
     "output_type": "stream",
     "text": [
      "Statistics for 'X5' column:\n",
      "count    110.0000\n",
      "mean      -0.0000\n",
      "std        1.0046\n",
      "min       -1.5529\n",
      "25%       -0.6143\n",
      "50%        0.3242\n",
      "75%        0.3242\n",
      "max        1.2628\n",
      "Name: X5, dtype: float64\n"
     ]
    }
   ],
   "source": [
    "X5_stats = df['X5'].describe().round(4)\n",
    "skewness = round(df['X5'].skew(), 4)\n",
    "kurtosis = round(df['X5'].kurtosis(), 4)\n",
    "\n",
    "print(\"Statistics for 'X5' column:\")\n",
    "print(X5_stats)"
   ]
  },
  {
   "cell_type": "markdown",
   "id": "42ec63ce-27c4-4592-9b96-b1f6a081d1e2",
   "metadata": {},
   "source": [
    "#### From the result above, the mean and standard deviation value have been set to -0 and 1 respectively as expected."
   ]
  },
  {
   "cell_type": "code",
   "execution_count": null,
   "id": "76447d3b-09dd-40c4-9ffd-235596f77744",
   "metadata": {},
   "outputs": [],
   "source": []
  },
  {
   "cell_type": "markdown",
   "id": "b17a47dd-24e5-44e2-8eca-00b53a2c8630",
   "metadata": {},
   "source": [
    "### X6 Column analysis."
   ]
  },
  {
   "cell_type": "markdown",
   "id": "4d23c508-a9d9-4ec8-a5af-c6c97774432b",
   "metadata": {},
   "source": [
    "##### Codes below examine X6 column for missing values."
   ]
  },
  {
   "cell_type": "code",
   "execution_count": 49,
   "id": "639b1621-7a97-420c-abf1-49423c8217c8",
   "metadata": {},
   "outputs": [
    {
     "data": {
      "text/plain": [
       "np.int64(0)"
      ]
     },
     "execution_count": 49,
     "metadata": {},
     "output_type": "execute_result"
    }
   ],
   "source": [
    "df[\"X6\"].isna().sum()"
   ]
  },
  {
   "cell_type": "markdown",
   "id": "2cdd9537-363e-46ec-9143-834a64f70052",
   "metadata": {},
   "source": [
    "#### From the result above, X6 has no miss value."
   ]
  },
  {
   "cell_type": "code",
   "execution_count": null,
   "id": "3b852af1-7e9f-41ee-918a-078a3eff6c8d",
   "metadata": {},
   "outputs": [],
   "source": []
  },
  {
   "cell_type": "markdown",
   "id": "c9b083f8-f28d-49d9-9284-f2b50e4d67bb",
   "metadata": {},
   "source": [
    "##### Codes below examine X6 for the following:\n",
    "##### statistics\n",
    "##### presence of outliers\n",
    "##### skewness and kurtosis.\n",
    "##### its distribution using box plot and histogram."
   ]
  },
  {
   "cell_type": "code",
   "execution_count": 51,
   "id": "cb8e947f-7776-4122-9471-0d84d40b050e",
   "metadata": {},
   "outputs": [
    {
     "name": "stdout",
     "output_type": "stream",
     "text": [
      "Statistics for 'X6' column:\n",
      "count    110.0000\n",
      "mean       4.2091\n",
      "std        0.8361\n",
      "min        1.0000\n",
      "25%        4.0000\n",
      "50%        4.0000\n",
      "75%        5.0000\n",
      "max        5.0000\n",
      "Name: X6, dtype: float64\n",
      "\n",
      "Skewness of 'X6': -0.8922\n",
      "Kurtosis of 'X6': 0.7143\n",
      "\n",
      "Number of Outliers: 2\n",
      "Percentage of Outliers: 1.82%\n"
     ]
    },
    {
     "data": {
      "image/png": "[encoded data removed]",
      "text/plain": [
       "<Figure size 1000x400 with 2 Axes>"
      ]
     },
     "metadata": {},
     "output_type": "display_data"
    }
   ],
   "source": [
    "# Summary statistics for X6 (rounded to 4 decimal places)\n",
    "X6_stats = df['X6'].describe().round(4)\n",
    "skewness = round(df['X6'].skew(), 4)\n",
    "kurtosis = round(df['X6'].kurtosis(), 4)\n",
    "\n",
    "print(\"Statistics for 'X6' column:\")\n",
    "print(X6_stats)\n",
    "print(f\"\\nSkewness of 'X6': {skewness}\")\n",
    "print(f\"Kurtosis of 'X6': {kurtosis}\")\n",
    "\n",
    "# Calculate Q1 (25th percentile) and Q3 (75th percentile)\n",
    "Q1 = df['X6'].quantile(0.25)\n",
    "Q3 = df['X6'].quantile(0.75)\n",
    "IQR = Q3 - Q1\n",
    "\n",
    "# Determine outlier boundaries\n",
    "lower_bound = Q1 - 1.5 * IQR\n",
    "upper_bound = Q3 + 1.5 * IQR\n",
    "\n",
    "# Identify outliers in X6\n",
    "outliers = df[(df['X6'] < lower_bound) | (df['X6'] > upper_bound)]\n",
    "\n",
    "# Calculate the number and percentage of outliers\n",
    "number_outliers = len(outliers)\n",
    "percentage_outliers = (len(outliers) / len(df)) * 100\n",
    "\n",
    "# Print number and percentage of outliers\n",
    "print(f\"\\nNumber of Outliers: {number_outliers}\")\n",
    "print(f\"Percentage of Outliers: {percentage_outliers:.2f}%\")\n",
    "\n",
    "# Set up side-by-side plots\n",
    "fig, axes = plt.subplots(1, 2, figsize=(10, 4))\n",
    "\n",
    "# Boxplot for 'X6' column\n",
    "sns.boxplot(x=df['X6'], ax=axes[0])\n",
    "axes[0].set_title(\"Boxplot of X6\")\n",
    "\n",
    "# Histogram for 'X6' column\n",
    "sns.histplot(df['X6'], kde=True, ax=axes[1])\n",
    "axes[1].set_title(\"Distribution of X6\")\n",
    "\n",
    "plt.tight_layout()\n",
    "plt.show()"
   ]
  },
  {
   "cell_type": "markdown",
   "id": "e00d345e-44be-4519-88e9-de82f08e373d",
   "metadata": {},
   "source": [
    "#### From the results above, X6 has 110 data points which ranges from 1 to 5 where 25%/50% is 4 and 75% is 5. It is approximately normally distributed, it has 2 outliers, mean and standard deviation values of 4.2091 and 0.8361 respectively."
   ]
  },
  {
   "cell_type": "markdown",
   "id": "241ec95c-58c7-4a32-b0e8-aec46e33958b",
   "metadata": {},
   "source": [
    "##### Codes below handle outliers in the X6 using winsorization method."
   ]
  },
  {
   "cell_type": "code",
   "execution_count": 23,
   "id": "4897a940-8666-4ea3-a7ea-e1aad3108f2c",
   "metadata": {},
   "outputs": [],
   "source": [
    "df['X6'] = winsorize(df['X6'], limits=[0.05, 0.05]).data"
   ]
  },
  {
   "cell_type": "markdown",
   "id": "e63a1f5f-202d-4ce2-8840-1d00ae435ff1",
   "metadata": {},
   "source": [
    "##### Codes below  examine the effect of the winsorization on X6."
   ]
  },
  {
   "cell_type": "code",
   "execution_count": 25,
   "id": "6afba90f-aa77-41c0-afb6-9f8dda2531e2",
   "metadata": {},
   "outputs": [
    {
     "name": "stdout",
     "output_type": "stream",
     "text": [
      "Statistics for 'X6' column:\n",
      "count    110.0000\n",
      "mean       4.2364\n",
      "std        0.7654\n",
      "min        3.0000\n",
      "25%        4.0000\n",
      "50%        4.0000\n",
      "75%        5.0000\n",
      "max        5.0000\n",
      "Name: X6, dtype: float64\n",
      "\n",
      "Skewness of 'X6': -0.432\n",
      "Kurtosis of 'X6': -1.1678\n",
      "\n",
      "Number of Outliers: 0\n",
      "Percentage of Outliers: 0.00%\n"
     ]
    },
    {
     "data": {
      "image/png": "[encoded data removed]",
      "text/plain": [
       "<Figure size 1000x400 with 2 Axes>"
      ]
     },
     "metadata": {},
     "output_type": "display_data"
    }
   ],
   "source": [
    "# Summary statistics for X6 (rounded to 4 decimal places)\n",
    "X6_stats = df['X6'].describe().round(4)\n",
    "skewness = round(df['X6'].skew(), 4)\n",
    "kurtosis = round(df['X6'].kurtosis(), 4)\n",
    "\n",
    "print(\"Statistics for 'X6' column:\")\n",
    "print(X6_stats)\n",
    "print(f\"\\nSkewness of 'X6': {skewness}\")\n",
    "print(f\"Kurtosis of 'X6': {kurtosis}\")\n",
    "\n",
    "# Calculate Q1 (25th percentile) and Q3 (75th percentile)\n",
    "Q1 = df['X6'].quantile(0.25)\n",
    "Q3 = df['X6'].quantile(0.75)\n",
    "IQR = Q3 - Q1\n",
    "\n",
    "# Determine outlier boundaries\n",
    "lower_bound = Q1 - 1.5 * IQR\n",
    "upper_bound = Q3 + 1.5 * IQR\n",
    "\n",
    "# Identify outliers in X6\n",
    "outliers = df[(df['X6'] < lower_bound) | (df['X6'] > upper_bound)]\n",
    "\n",
    "# Calculate the number and percentage of outliers\n",
    "number_outliers = len(outliers)\n",
    "percentage_outliers = (len(outliers) / len(df)) * 100\n",
    "\n",
    "# Print number and percentage of outliers\n",
    "print(f\"\\nNumber of Outliers: {number_outliers}\")\n",
    "print(f\"Percentage of Outliers: {percentage_outliers:.2f}%\")\n",
    "\n",
    "# Set up side-by-side plots\n",
    "fig, axes = plt.subplots(1, 2, figsize=(10, 4))\n",
    "\n",
    "# Boxplot for 'X6' column\n",
    "sns.boxplot(x=df['X6'], ax=axes[0])\n",
    "axes[0].set_title(\"Boxplot of X6\")\n",
    "\n",
    "# Histogram for 'X6' column\n",
    "sns.histplot(df['X6'], kde=True, ax=axes[1])\n",
    "axes[1].set_title(\"Distribution of X6\")\n",
    "\n",
    "plt.tight_layout()\n",
    "plt.show()"
   ]
  },
  {
   "cell_type": "markdown",
   "id": "9dd6a258-5964-41df-9074-42a9821f47fc",
   "metadata": {},
   "source": [
    "#### From the result above, outliers reduced from 2 to 0(no outliers) after winsirization."
   ]
  },
  {
   "cell_type": "markdown",
   "id": "3ee7c39c-520e-4fd1-9fb7-68b2588d54c9",
   "metadata": {},
   "source": [
    "##### Codes below standardize X6  using z-score"
   ]
  },
  {
   "cell_type": "code",
   "execution_count": 59,
   "id": "5e1e34a5-f9d8-4196-af21-8ecd1906d4c8",
   "metadata": {},
   "outputs": [],
   "source": [
    "\n",
    "scaler = StandardScaler()\n",
    "\n",
    "# Standardize X6 in place\n",
    "df['X6'] = scaler.fit_transform(df[['X6']])"
   ]
  },
  {
   "cell_type": "markdown",
   "id": "61603976-1580-4962-81ba-a443db706230",
   "metadata": {},
   "source": [
    "##### Code below display X6 statistics again after standardization."
   ]
  },
  {
   "cell_type": "code",
   "execution_count": 61,
   "id": "a81b8b67-6d3c-4da8-83ef-906569f6e706",
   "metadata": {},
   "outputs": [
    {
     "name": "stdout",
     "output_type": "stream",
     "text": [
      "Statistics for 'X6' column:\n",
      "count    110.0000\n",
      "mean       0.0000\n",
      "std        1.0046\n",
      "min       -1.6227\n",
      "25%       -0.3102\n",
      "50%       -0.3102\n",
      "75%        1.0023\n",
      "max        1.0023\n",
      "Name: X6, dtype: float64\n"
     ]
    }
   ],
   "source": [
    "X6_stats = df['X6'].describe().round(4)\n",
    "skewness = round(df['X6'].skew(), 4)\n",
    "kurtosis = round(df['X6'].kurtosis(), 4)\n",
    "\n",
    "print(\"Statistics for 'X6' column:\")\n",
    "print(X6_stats)"
   ]
  },
  {
   "cell_type": "markdown",
   "id": "d89eb372-0e93-4a63-be4f-b7a0a52f5dbd",
   "metadata": {},
   "source": [
    "#### From the result above, the mean and standard deviation values have been set to 0 and 1 respectively as expected."
   ]
  },
  {
   "cell_type": "markdown",
   "id": "902c065f-1ed5-4cd3-8bf0-f48ec09948c6",
   "metadata": {},
   "source": [
    "### Examine the Leanear Relationship among the Variables.\n",
    "##### Codes below calculate correlation coefficients of the variables and display them using a heatmap. "
   ]
  },
  {
   "cell_type": "code",
   "execution_count": 71,
   "id": "37e262ca-53ea-4a78-94e3-16f0acfe6cd9",
   "metadata": {},
   "outputs": [
    {
     "data": {
      "image/png": "[encoded data removed]",
      "text/plain": [
       "<Figure size 600x400 with 2 Axes>"
      ]
     },
     "metadata": {},
     "output_type": "display_data"
    }
   ],
   "source": [
    "# Calculate the correlation matrix\n",
    "corr_matrix = df.corr()\n",
    "\n",
    "# Set up the figure size and heatmap styling\n",
    "plt.figure(figsize=(6, 4))\n",
    "sns.heatmap(corr_matrix, annot=True, fmt=\".2f\", cmap=\"coolwarm\", vmin=-1, vmax=1, linewidths=0.5)\n",
    "\n",
    "# Add titles and labels\n",
    "plt.title(\"Correlation Matrix Heatmap\")\n",
    "plt.show()"
   ]
  },
  {
   "cell_type": "markdown",
   "id": "771d1237-8bac-43ca-912b-7725bf9f8df3",
   "metadata": {},
   "source": [
    "#### From the heatmap above, no variables are strongly related to each other. so, all of them were kept for model development."
   ]
  },
  {
   "cell_type": "markdown",
   "id": "7ff6fc8c-c153-426c-a9ea-056914144f1c",
   "metadata": {},
   "source": [
    "### Target Variable (column Y) Analysis."
   ]
  },
  {
   "cell_type": "markdown",
   "id": "fc8cc90e-49c2-45a6-8d9a-e18bd2155f4f",
   "metadata": {},
   "source": [
    "##### Codes below examine Y distinct values"
   ]
  },
  {
   "cell_type": "code",
   "execution_count": 73,
   "id": "51e10747-6379-44fe-8eb5-5ae49dce9bdd",
   "metadata": {},
   "outputs": [
    {
     "name": "stdout",
     "output_type": "stream",
     "text": [
      "Distinct values are:\n",
      "[0. 1.]\n"
     ]
    }
   ],
   "source": [
    "unique_values = df['Y'].unique()\n",
    "print( f\"Distinct values are:\")\n",
    "print(unique_values)"
   ]
  },
  {
   "cell_type": "markdown",
   "id": "c35b0e85-cc45-4e3d-8322-310e3a7b3572",
   "metadata": {},
   "source": [
    "#### From the result above Y has 0s and 1s as expected."
   ]
  },
  {
   "cell_type": "markdown",
   "id": "7f025926-a944-4363-9ba6-a1b0a69bd12b",
   "metadata": {},
   "source": [
    "##### Codes below examine Y distribution using a histogram."
   ]
  },
  {
   "cell_type": "code",
   "execution_count": 75,
   "id": "8ea25205-1444-430f-b521-6f4a52d485ac",
   "metadata": {},
   "outputs": [
    {
     "data": {
      "image/png": "[encoded data removed]",
      "text/plain": [
       "<Figure size 800x500 with 1 Axes>"
      ]
     },
     "metadata": {},
     "output_type": "display_data"
    }
   ],
   "source": [
    "plt.figure(figsize=(8, 5))  # Set figure size\n",
    "ax = sns.countplot(data=df, x='Y', color='skyblue') \n",
    "\n",
    "# Annotate each bar with the count\n",
    "for p in ax.patches:\n",
    "    ax.annotate(f'{int(p.get_height())}',  \n",
    "                (p.get_x() + p.get_width() / 2., p.get_height()), \n",
    "                ha='center', va='bottom',  # Center alignment\n",
    "                fontsize=12)  # Font size for the annotations\n",
    "\n",
    "# Add titles and labels\n",
    "plt.title(\"Y Distribution\", fontsize=16)\n",
    "plt.xlabel(\"Y\", fontsize=14)\n",
    "plt.ylabel(\"Count\", fontsize=14)\n",
    "\n",
    "# Show the plot\n",
    "plt.tight_layout()  \n",
    "plt.show()"
   ]
  },
  {
   "cell_type": "markdown",
   "id": "d20cc1c8-301d-489b-9f88-3df3dba24343",
   "metadata": {},
   "source": [
    "#### From the result above, Y is a balanced data. 0s = 54 while 1s = 56."
   ]
  },
  {
   "cell_type": "markdown",
   "id": "664ff084-8e4c-467e-ac7d-2198bc3b1c2f",
   "metadata": {},
   "source": [
    "### Next Step.\n",
    "#### Having carried out EDAs and applied the necessary transformations, a pipeline that will automate the steps will be developed."
   ]
  },
  {
   "cell_type": "code",
   "execution_count": null,
   "id": "ec93ee14-3233-466b-acba-3dbc85e46707",
   "metadata": {},
   "outputs": [],
   "source": []
  }
 ],
 "metadata": {
  "kernelspec": {
   "display_name": "Python (happy)",
   "language": "python",
   "name": "happy"
  },
  "language_info": {
   "codemirror_mode": {
    "name": "ipython",
    "version": 3
   },
   "file_extension": ".py",
   "mimetype": "text/x-python",
   "name": "python",
   "nbconvert_exporter": "python",
   "pygments_lexer": "ipython3",
   "version": "3.10.11"
  }
 },
 "nbformat": 4,
 "nbformat_minor": 5
}
